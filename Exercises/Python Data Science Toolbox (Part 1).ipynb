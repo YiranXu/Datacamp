{
 "cells": [
  {
   "cell_type": "code",
   "execution_count": null,
   "id": "5cc7b069",
   "metadata": {},
   "outputs": [],
   "source": [
    "#Complete the code to return the output\n",
    "x = [-7, 4, 9, -4, 8]\n",
    "greater_than_zero = ?(? n: (n > 0), x)\n",
    "print(list(greater_than_zero))"
   ]
  },
  {
   "cell_type": "markdown",
   "id": "b977d459",
   "metadata": {},
   "source": [
    "output: [4,9,8]"
   ]
  },
  {
   "cell_type": "markdown",
   "id": "af871bf6",
   "metadata": {},
   "source": [
    "Solution:"
   ]
  },
  {
   "cell_type": "code",
   "execution_count": 5,
   "id": "85d50d8d",
   "metadata": {},
   "outputs": [
    {
     "name": "stdout",
     "output_type": "stream",
     "text": [
      "[4, 9, 8]\n"
     ]
    }
   ],
   "source": [
    "x = [-7, 4, 9, -4, 8]\n",
    "greater_than_zero = filter(lambda n: (n > 0), x)\n",
    "print(list(greater_than_zero))"
   ]
  },
  {
   "cell_type": "markdown",
   "id": "94374de6",
   "metadata": {},
   "source": [
    "Q:What is the output of the follwoing code?\n",
    "\n",
    "def check_type(*args):\n",
    "    return type(args)\n",
    "\n",
    "check_type(1,2,3)"
   ]
  },
  {
   "cell_type": "markdown",
   "id": "2b6badd3",
   "metadata": {},
   "source": [
    "Solution: tuple"
   ]
  },
  {
   "cell_type": "code",
   "execution_count": 18,
   "id": "f28635d9",
   "metadata": {},
   "outputs": [],
   "source": [
    "def check_type(*args):\n",
    "    print(args)\n",
    "    return type(args)"
   ]
  },
  {
   "cell_type": "code",
   "execution_count": 19,
   "id": "e60555ae",
   "metadata": {},
   "outputs": [
    {
     "name": "stdout",
     "output_type": "stream",
     "text": [
      "(1, 2, 3)\n"
     ]
    },
    {
     "data": {
      "text/plain": [
       "tuple"
      ]
     },
     "execution_count": 19,
     "metadata": {},
     "output_type": "execute_result"
    }
   ],
   "source": [
    "check_type(1,2,3)"
   ]
  },
  {
   "cell_type": "markdown",
   "id": "46877b9b",
   "metadata": {},
   "source": [
    "Q:What is the output of the follwoing code?\n",
    "\n",
    "def check_type(**kwargs):\n",
    "    return type(kwargs)\n",
    "\n",
    "check_type(a=1,b=2,c=3)"
   ]
  },
  {
   "cell_type": "code",
   "execution_count": 21,
   "id": "6f459a6a",
   "metadata": {},
   "outputs": [
    {
     "data": {
      "text/plain": [
       "dict"
      ]
     },
     "execution_count": 21,
     "metadata": {},
     "output_type": "execute_result"
    }
   ],
   "source": [
    "def check_type(**kwargs):\n",
    "    return type(kwargs)\n",
    "\n",
    "check_type(a=1,b=2,c=3)"
   ]
  },
  {
   "cell_type": "code",
   "execution_count": null,
   "id": "d123affc",
   "metadata": {},
   "outputs": [],
   "source": []
  },
  {
   "cell_type": "code",
   "execution_count": null,
   "id": "93e8a94b",
   "metadata": {},
   "outputs": [],
   "source": [
    "#Complete the code to return the output\n",
    "x = ['aPPle', 'baNANa']\n",
    "def ?(?):\n",
    "    \"\"\"\"Returns a list, with all elements capitalized\"\"\"\n",
    "    def ?(?):\n",
    "        \"\"\"Returns a capitalized word\"\"\"\n",
    "        return w.capitalize()\n",
    "    return ([inner(li[0]), inner(li[1])])\n",
    "print(caps(x))"
   ]
  },
  {
   "cell_type": "markdown",
   "id": "76085dee",
   "metadata": {},
   "source": [
    "Solution:"
   ]
  },
  {
   "cell_type": "code",
   "execution_count": 20,
   "id": "85ca83ab",
   "metadata": {},
   "outputs": [
    {
     "name": "stdout",
     "output_type": "stream",
     "text": [
      "['Apple', 'Banana']\n"
     ]
    }
   ],
   "source": [
    "x = ['aPPle', 'baNANa']\n",
    "def caps(li):\n",
    "    \"\"\"\"Returns a list, with all elements capitalized\"\"\"\n",
    "    def inner(w):\n",
    "        \"\"\"Returns a capitalized word\"\"\"\n",
    "        return w.capitalize()\n",
    "    return ([inner(li[0]), inner(li[1])])\n",
    "print(caps(x))"
   ]
  },
  {
   "cell_type": "code",
   "execution_count": null,
   "id": "c21df310",
   "metadata": {},
   "outputs": [],
   "source": []
  }
 ],
 "metadata": {
  "kernelspec": {
   "display_name": "Python 3",
   "language": "python",
   "name": "python3"
  },
  "language_info": {
   "codemirror_mode": {
    "name": "ipython",
    "version": 3
   },
   "file_extension": ".py",
   "mimetype": "text/x-python",
   "name": "python",
   "nbconvert_exporter": "python",
   "pygments_lexer": "ipython3",
   "version": "3.8.8"
  }
 },
 "nbformat": 4,
 "nbformat_minor": 5
}
